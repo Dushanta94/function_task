{
 "cells": [
  {
   "cell_type": "code",
   "execution_count": 1,
   "id": "5a303307-4c94-42d1-9bef-3812d54d44de",
   "metadata": {},
   "outputs": [
    {
     "name": "stdout",
     "output_type": "stream",
     "text": [
      "This is a Beautiful\n",
      "{'Name1': 'bea', 'Name2': 'uti', 'Name3': 'ful', 'joinName': 'beautiful'}\n"
     ]
    }
   ],
   "source": [
    "print('This is a Beautiful')\n",
    "\n",
    "def dictName(val1,val2,val3):\n",
    "    join_Name = f'{val1}{val2}{val3}'\n",
    "    result = {\n",
    "        'Name1':val1,\n",
    "        'Name2':val2,\n",
    "        'Name3':val3,\n",
    "        'joinName':join_Name\n",
    "    }\n",
    "    return result\n",
    "\n",
    "\n",
    "val1 = \"bea\"\n",
    "val2 = \"uti\"\n",
    "val3 = \"ful\"\n",
    "output = dictName(val1,val2,val3)\n",
    "\n",
    "print(output)"
   ]
  },
  {
   "cell_type": "code",
   "execution_count": null,
   "id": "b8f6df6e-a87a-4f29-b61d-67749ab76e45",
   "metadata": {},
   "outputs": [],
   "source": []
  }
 ],
 "metadata": {
  "kernelspec": {
   "display_name": "Python 3 (ipykernel)",
   "language": "python",
   "name": "python3"
  },
  "language_info": {
   "codemirror_mode": {
    "name": "ipython",
    "version": 3
   },
   "file_extension": ".py",
   "mimetype": "text/x-python",
   "name": "python",
   "nbconvert_exporter": "python",
   "pygments_lexer": "ipython3",
   "version": "3.11.7"
  }
 },
 "nbformat": 4,
 "nbformat_minor": 5
}
